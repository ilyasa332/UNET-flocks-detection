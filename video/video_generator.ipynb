{
 "cells": [
  {
   "cell_type": "code",
   "execution_count": null,
   "id": "33f12c49-8fd9-4ea3-9997-022bbeb8c4cb",
   "metadata": {
    "is_executing": true
   },
   "outputs": [],
   "source": [
    "from pathlib import Path\n",
    "\n",
    "from preprocessing import Preprocessor\n",
    "from preprocessing import load_files\n",
    "# with Path('../functions/'):\n",
    "#     from create_previous_images import create_early_image_2\n",
    "#     from generators import image_generator\n",
    "#     from unet_model import unet\n",
    "# from statistics_birds_test import pipeline, create_ERROR_images_on_radar\n",
    "# import tensorflow as tf"
   ]
  },
  {
   "cell_type": "code",
   "execution_count": null,
   "id": "5a664548-cc52-4681-a3d8-c2cdebc9f931",
   "metadata": {
    "is_executing": true
   },
   "outputs": [],
   "source": [
    "import matplotlib.pyplot as plt\n",
    "import numpy as np\n",
    "import math\n",
    "import cv2\n",
    "\n",
    "from PIL import Image\n",
    "from skimage.measure import block_reduce\n",
    "\n",
    "# import rpy2.robjects as ro\n",
    "# from rpy2.robjects import r\n",
    "# from rpy2.robjects.packages import importr"
   ]
  },
  {
   "cell_type": "code",
   "execution_count": null,
   "id": "2ecb8fb7-8c80-4d68-bee3-7f06a8fa6b85",
   "metadata": {
    "is_executing": true
   },
   "outputs": [],
   "source": [
    "with Path('..'):\n",
    "    files = load_files()"
   ]
  },
  {
   "cell_type": "code",
   "execution_count": 4,
   "id": "d5fc687d-a9a5-48fe-95b9-37c8d0abcb8a",
   "metadata": {
    "ExecuteTime": {
     "end_time": "2023-10-26T07:48:18.443218Z",
     "start_time": "2023-10-26T07:47:58.748532Z"
    }
   },
   "outputs": [
    {
     "name": "stderr",
     "output_type": "stream",
     "text": [
      "190it [00:18, 10.49it/s]\n"
     ]
    }
   ],
   "source": [
    "# preprocess the files\n",
    "with Path('..'):\n",
    "    input, y_test, files_index = Preprocessor(files[0])"
   ]
  },
  {
   "cell_type": "code",
   "execution_count": 5,
   "outputs": [],
   "source": [
    "import torch\n",
    "from torch.nn.modules.utils import consume_prefix_in_state_dict_if_present\n",
    "from pytorch.unet.unet_model import UNet\n",
    "\n",
    "model = UNet(n_channels=9, n_classes=1)\n",
    "checkpoint_path = \"/home/theator/ziv/code/birds/pytorch/logs/lr=0.001;threshold=0.5;sep_sites/version_0/checkpoints/epoch=9-step=1960.ckpt\"\n",
    "w = torch.load(checkpoint_path)\n",
    "consume_prefix_in_state_dict_if_present(w['state_dict'], prefix=\"model.\")\n",
    "model.load_state_dict(w['state_dict'])\n",
    "model = model.to(\"cuda:0\")"
   ],
   "metadata": {
    "collapsed": false,
    "ExecuteTime": {
     "end_time": "2023-10-26T07:48:24.996778Z",
     "start_time": "2023-10-26T07:48:18.442894Z"
    }
   },
   "id": "18ab312bb2abbce"
  },
  {
   "cell_type": "code",
   "execution_count": 6,
   "outputs": [],
   "source": [
    "model.eval()\n",
    "with torch.no_grad():\n",
    "    predict = model(torch.from_numpy(input).permute(0, 3, 1, 2).to(device=\"cuda:0\", dtype=torch.float32))"
   ],
   "metadata": {
    "collapsed": false,
    "ExecuteTime": {
     "end_time": "2023-10-26T07:48:30.014347Z",
     "start_time": "2023-10-26T07:48:24.996588Z"
    }
   },
   "id": "269e4f1a7e5a2c87"
  },
  {
   "cell_type": "code",
   "execution_count": 7,
   "id": "d4a22b7b-7e38-45cd-b6b9-6709f8fc7167",
   "metadata": {
    "ExecuteTime": {
     "end_time": "2023-10-26T07:48:30.014972Z",
     "start_time": "2023-10-26T07:48:30.014088Z"
    }
   },
   "outputs": [],
   "source": [
    "predict[predict <= 0.2] = 0\n",
    "predict[predict > 0.2] = 255"
   ]
  },
  {
   "cell_type": "code",
   "execution_count": 8,
   "id": "e6da2624-e5a2-4baa-a211-0d0a5eb7c026",
   "metadata": {
    "ExecuteTime": {
     "end_time": "2023-10-26T07:48:30.017462Z",
     "start_time": "2023-10-26T07:48:30.014593Z"
    }
   },
   "outputs": [],
   "source": [
    "pred = predict[:, :, :, 0].clone()"
   ]
  },
  {
   "cell_type": "markdown",
   "id": "ac395429-61b4-4bb7-a969-5d8eb2a84ec2",
   "metadata": {},
   "source": [
    "<h2>Ellipses"
   ]
  },
  {
   "cell_type": "code",
   "execution_count": 9,
   "id": "b42608f6-1f7e-4f12-8e06-2f690a92108c",
   "metadata": {
    "jupyter": {
     "source_hidden": true
    },
    "tags": [],
    "ExecuteTime": {
     "end_time": "2023-10-26T07:48:30.024375Z",
     "start_time": "2023-10-26T07:48:30.020295Z"
    }
   },
   "outputs": [],
   "source": [
    "def dilate_cont(img,\n",
    "                cont):  # this function finds contours for smaller predictions that dont have enough length for a contour\n",
    "\n",
    "    msk = create_contour_mask(img, cont)\n",
    "    # dilate mask\n",
    "    msk = cv2.dilate(msk, (2, 2), iterations=1)\n",
    "\n",
    "    im = img.copy()\n",
    "    # apply mask to image\n",
    "    im = (np.uint8(im / 255) & np.uint8(msk / 255)) * 255\n",
    "    # dilate image\n",
    "    im = cv2.dilate(im, (2, 2), iterations=1)\n",
    "\n",
    "    # find \"constructed\" contours\n",
    "    contours_raw = create_target_contours(np.uint8(im))\n",
    "\n",
    "    contours = []\n",
    "    for cont in contours_raw:\n",
    "        if len(cont) > 5:\n",
    "            contours.append(cont)\n",
    "\n",
    "    return contours\n",
    "\n",
    "\n",
    "def create_contour_mask(img, cont):  # create a mask with only the specific contour\n",
    "\n",
    "    msk = img.copy()\n",
    "\n",
    "    # delete everything outside chosen contour\n",
    "    msk = cv2.cvtColor(np.uint8(msk), cv2.COLOR_GRAY2RGB)\n",
    "\n",
    "    msk = cv2.drawContours(msk, [cont], 0, (254, 254, 254), 1)  # draw the contour needed to break\n",
    "\n",
    "    msk[msk == 255] = 0  # delete everything except the contour\n",
    "\n",
    "    # TODO: might be issues because of the starting point of the fill at (0,0) - use skimage grid point in poly\n",
    "    msk = cv2.floodFill(np.uint8(msk), None, (0, 0),\n",
    "                        (127, 127, 127))  # fill everything except the contour and its insides with gray\n",
    "    msk = msk[1]  # take the image\n",
    "\n",
    "    msk[msk == 0] = 255  # make the inside of the contour white\n",
    "    msk[msk == 254] = 255  # make the contour white\n",
    "    msk[msk == 127] = 0  # make everything else black\n",
    "    msk = cv2.cvtColor(msk, cv2.COLOR_RGB2GRAY)  # turn into grayscale again\n",
    "\n",
    "    return msk\n",
    "\n",
    "\n",
    "def break_minor_cont(img, cont):  # this function finds even more subtle contours by eroding and then pixelating\n",
    "\n",
    "    msk = create_contour_mask(img, cont)  # create a mask with only the specific contour\n",
    "\n",
    "    im = img.copy()\n",
    "    # apply mask to image\n",
    "    im = (np.uint8(im / 255) & np.uint8(msk / 255)) * 255\n",
    "\n",
    "    # erode the image\n",
    "    kernel = np.ones((2, 2), np.uint8)\n",
    "    im = cv2.erode(im, kernel, iterations=1)\n",
    "\n",
    "    # pixelate the image\n",
    "    block_size = (2, 2)\n",
    "    im = block_reduce(im, block_size=block_size, func=np.mean)\n",
    "    im = np.array(Image.fromarray(im).resize((256, 256), Image.NEAREST))\n",
    "\n",
    "    # apply cutoff\n",
    "    im[im > 150] = 255\n",
    "    im[im <= 150] = 0\n",
    "\n",
    "    # Image.fromarray(cv2.cvtColor(np.uint8(im), cv2.COLOR_GRAY2RGB)).save(\"test\"+str(len(cont))+\".jpeg\")\n",
    "\n",
    "    # find broken contours\n",
    "    contours = create_target_contours(np.uint8(im))\n",
    "\n",
    "    return contours\n",
    "\n",
    "\n",
    "def break_major_cont(img, cont):  # this function finds more subtle contoutrs because it's not pixelated\n",
    "\n",
    "    msk = create_contour_mask(img, cont)  # create a mask with only the specific contour\n",
    "\n",
    "    im = img.copy()\n",
    "\n",
    "    # apply mask to image\n",
    "    im = (np.uint8(im / 255) & np.uint8(msk / 255)) * 255\n",
    "\n",
    "    # find broken contours\n",
    "    contours_raw = create_target_contours(np.uint8(im))\n",
    "\n",
    "    contours = []\n",
    "    for cont in contours_raw:\n",
    "        if cv2.contourArea(cont) < 40:  # check for left unbroken contours\n",
    "            contours.append(cont)\n",
    "        else:\n",
    "            minor_broken_conts = break_minor_cont(img, cont)\n",
    "            for mcont in minor_broken_conts:\n",
    "                contours.append(mcont)\n",
    "\n",
    "    return contours\n",
    "\n",
    "\n",
    "def create_ellipse(cont):\n",
    "    (x, y), (MA, ma), angle = cv2.fitEllipse(cont)\n",
    "    Area = math.pi * MA * ma\n",
    "\n",
    "    return [int(x), int(y), int(MA), int(ma), int(angle), int(Area)]\n",
    "\n",
    "\n",
    "def create_target_contours(img):\n",
    "    contours, hierarchy = cv2.findContours(img, cv2.RETR_CCOMP, cv2.CHAIN_APPROX_NONE)\n",
    "\n",
    "    return contours\n",
    "\n",
    "\n",
    "def preprocess_rad(rad, pred):\n",
    "    rad_temp = rad.copy()\n",
    "\n",
    "    # dilate pred mask\n",
    "    kernel = np.ones((2, 2), np.uint8)\n",
    "    pred_temp = cv2.dilate(pred, kernel, iterations=1)\n",
    "\n",
    "    # remove all gray\n",
    "    msk = (rad_temp > 125) & (rad_temp < 129)\n",
    "    rad_temp[msk] = 255\n",
    "\n",
    "    # put pred mask on radar image\n",
    "    masked_rad = np.dstack((rad_temp, np.uint8(pred_temp)))\n",
    "    masked_rad[masked_rad[:, :, 3] == 0] = 255\n",
    "    masked_rad = masked_rad[:, :, 0:3]\n",
    "\n",
    "    # turn radar image to grayscale\n",
    "    gray_rad = cv2.cvtColor(masked_rad, cv2.COLOR_RGB2GRAY)\n",
    "\n",
    "    # make all grays whites\n",
    "    gray_rad[gray_rad < 255] = 0\n",
    "\n",
    "    # flip color\n",
    "    gray_rad = 255. - gray_rad\n",
    "\n",
    "    return gray_rad\n",
    "\n",
    "\n",
    "def create_target_ellipses(rad, pred):  # TODO: do it\n",
    "    # preprocess the radar image\n",
    "    img = preprocess_rad(np.uint8(rad * 255), pred)  # preprocess the radar image\n",
    "    #img=rad.copy()\n",
    "    # pixelate the image to find roughly most contours\n",
    "    block_size = (2, 2)\n",
    "    px_rad = np.uint8(block_reduce(img, block_size=block_size, func=np.mean))\n",
    "    px_rad = np.array(Image.fromarray(px_rad).resize((256, 256), Image.NEAREST))\n",
    "    # px_rad = np.uint8(img.copy())\n",
    "    ellipses = []\n",
    "    target_contours = create_target_contours(px_rad)\n",
    "\n",
    "    for cont in target_contours:\n",
    "        if len(cont) > 5:\n",
    "            if cv2.contourArea(cont) < 40:  # check if contour is not too big\n",
    "                ellipses.append(create_ellipse(cont))  # fit an ellipse to each contour\n",
    "            else:\n",
    "                broken_conts = break_major_cont(img, cont)  # if the contour is too big, break it up\n",
    "                for bcont in broken_conts:\n",
    "                    if len(bcont) > 5:\n",
    "                        ellipses.append(create_ellipse(bcont))\n",
    "                    else:\n",
    "                        dilated_conts = dilate_cont(img,\n",
    "                                                    bcont)  # if the contour is too small, dilate the original image to fit an ellipse\n",
    "                        for dcont in dilated_conts:\n",
    "                            ellipses.append(create_ellipse(dcont))\n",
    "        else:\n",
    "            dilated_conts = dilate_cont(img, cont)  # again, for the possibility of a contour which is too small\n",
    "            for dcont in dilated_conts:\n",
    "                ellipses.append(create_ellipse(dcont))\n",
    "\n",
    "    return ellipses\n",
    "\n",
    "\n",
    "def find_ellipses(arr):\n",
    "    ellipses = []\n",
    "    for i, im in enumerate(arr):\n",
    "        temp_el = create_target_ellipses(input[i, :, :, 0:3], im)\n",
    "        ellipses.append(temp_el)\n",
    "    return ellipses\n",
    "\n",
    "\n",
    "def put_ellipse_centers(arr, ellipses):\n",
    "    temp_arr = [cv2.cvtColor(x.copy(), cv2.COLOR_BGR2RGB) for x in arr]\n",
    "    for i, ell in enumerate(ellipses):\n",
    "        if i + 2 >= len(temp_arr):\n",
    "            break\n",
    "        for el in ell:\n",
    "            cv2.circle(temp_arr[i], (el[0], el[1]), 3, (0, 0, 255), -1)\n",
    "    return temp_arr"
   ]
  },
  {
   "cell_type": "code",
   "execution_count": 10,
   "id": "12c4b0a4-73f8-49bd-a39e-2203b317b92f",
   "metadata": {
    "ExecuteTime": {
     "end_time": "2023-10-26T07:48:30.024578Z",
     "start_time": "2023-10-26T07:48:30.020961Z"
    }
   },
   "outputs": [],
   "source": [
    "def stack(arr):\n",
    "    stacked = []\n",
    "    for i, im in enumerate(arr):\n",
    "        if i + 2 >= arr.shape[0]:\n",
    "            break\n",
    "\n",
    "        stacked.append(im)\n",
    "        stacked[i] = np.add(stacked[i], arr[i + 1])\n",
    "        stacked[i] = np.add(stacked[i], arr[i + 2])\n",
    "        # cutoff\n",
    "        stacked[i][stacked[i] <= 256] = 0\n",
    "        stacked[i][stacked[i] > 256] = 255\n",
    "    return np.array(stacked)"
   ]
  },
  {
   "cell_type": "code",
   "execution_count": 11,
   "outputs": [
    {
     "name": "stderr",
     "output_type": "stream",
     "text": [
      "Clipping input data to the valid range for imshow with RGB data ([0..1] for floats or [0..255] for integers).\n"
     ]
    },
    {
     "data": {
      "text/plain": "<matplotlib.image.AxesImage at 0x7f2559fd2b20>"
     },
     "execution_count": 11,
     "metadata": {},
     "output_type": "execute_result"
    },
    {
     "data": {
      "text/plain": "<Figure size 640x480 with 1 Axes>",
      "image/png": "[encoded data removed]"
     },
     "metadata": {},
     "output_type": "display_data"
    }
   ],
   "source": [
    "predict_numpy = predict.squeeze().cpu().numpy()\n",
    "ellipses = find_ellipses(predict_numpy)\n",
    "out_pred_ell = put_ellipse_centers(stack(predict_numpy), ellipses)\n",
    "plt.imshow(out_pred_ell[0])"
   ],
   "metadata": {
    "collapsed": false,
    "ExecuteTime": {
     "end_time": "2023-10-26T07:48:33.730449Z",
     "start_time": "2023-10-26T07:48:30.021152Z"
    }
   },
   "id": "7dedaea37e02a02a"
  },
  {
   "cell_type": "markdown",
   "source": [
    "<h2> Centroids"
   ],
   "metadata": {
    "collapsed": false
   },
   "id": "9659905e-fd56-4efb-9056-7ded704b2a18"
  },
  {
   "cell_type": "code",
   "execution_count": 12,
   "outputs": [],
   "source": [
    "def create_centroid(cont):\n",
    "    M = cv2.moments(cont)\n",
    "    if M['m00'] == 0:\n",
    "        return [0, 0]\n",
    "    cx = int(M['m10'] / M['m00'])\n",
    "    cy = int(M['m01'] / M['m00'])\n",
    "\n",
    "    return [int(cx), int(cy)]\n",
    "\n",
    "\n",
    "def create_target_centroids(rad, pred):  # TODO: do it\n",
    "    # preprocess the radar image\n",
    "    img = preprocess_rad(np.uint8(rad * 255), pred)  # preprocess the radar image\n",
    "    #img=rad.copy()\n",
    "    # pixelate the image to find roughly most contours\n",
    "    block_size = (2, 2)\n",
    "    px_rad = np.uint8(block_reduce(img, block_size=block_size, func=np.mean))\n",
    "    px_rad = np.array(Image.fromarray(px_rad).resize((256, 256), Image.NEAREST))\n",
    "    # px_rad = np.uint8(img.copy())\n",
    "    centroids = []\n",
    "    target_contours = create_target_contours(px_rad)\n",
    "\n",
    "    for cont in target_contours:\n",
    "        if len(cont) > 5:\n",
    "            if cv2.contourArea(cont) < 40:  # check if contour is not too big\n",
    "                centroids.append(create_centroid(cont))  # fit a centroid to each contour\n",
    "            else:\n",
    "                broken_conts = break_major_cont(img, cont)  # if the contour is too big, break it up\n",
    "                for bcont in broken_conts:\n",
    "                    if len(bcont) > 5:\n",
    "                        centroids.append(create_centroid(bcont))\n",
    "                    else:\n",
    "                        dilated_conts = dilate_cont(img,\n",
    "                                                    bcont)  # if the contour is too small, dilate the original image to fit a centroid\n",
    "                        for dcont in dilated_conts:\n",
    "                            centroids.append(create_centroid(dcont))\n",
    "        else:\n",
    "            dilated_conts = dilate_cont(img, cont)  # again, for the possibility of a contour which is too small\n",
    "            for dcont in dilated_conts:\n",
    "                centroids.append(create_centroid(dcont))\n",
    "\n",
    "    return centroids\n",
    "\n",
    "\n",
    "def find_centroids(arr):\n",
    "    centroids = []\n",
    "    for i, im in enumerate(arr):\n",
    "        temp_c = create_target_centroids(input[i, :, :, 0:3], im)\n",
    "        centroids.append(temp_c)\n",
    "    return centroids\n",
    "\n",
    "\n",
    "def put_centroid_centers(arr, centroids):\n",
    "    temp_arr = [cv2.cvtColor(x.copy(), cv2.COLOR_BGR2RGB) for x in arr]\n",
    "    for i, cen in enumerate(centroids):\n",
    "        if i + 2 >= len(temp_arr):\n",
    "            break\n",
    "        for c in cen:\n",
    "            cv2.circle(temp_arr[i], (c[0], c[1]), 3, (0, 0, 255), -1)\n",
    "        temp_arr[i] = Image.fromarray(temp_arr[i].astype(np.uint8))\n",
    "        temp_arr[i] = temp_arr[i].resize((1024, 1024))\n",
    "    return temp_arr"
   ],
   "metadata": {
    "collapsed": false,
    "jupyter": {
     "source_hidden": true
    },
    "ExecuteTime": {
     "end_time": "2023-10-26T07:48:33.731483Z",
     "start_time": "2023-10-26T07:48:33.730196Z"
    }
   },
   "id": "4dede856-19b3-4d11-930a-d0f156dfba40"
  },
  {
   "cell_type": "code",
   "execution_count": 13,
   "outputs": [
    {
     "data": {
      "text/plain": "<matplotlib.image.AxesImage at 0x7f2559bd62b0>"
     },
     "execution_count": 13,
     "metadata": {},
     "output_type": "execute_result"
    },
    {
     "data": {
      "text/plain": "<Figure size 640x480 with 1 Axes>",
      "image/png": "[encoded data removed]"
     },
     "metadata": {},
     "output_type": "display_data"
    }
   ],
   "source": [
    "# create output with centroids\n",
    "predict_numpy = predict.squeeze().cpu().numpy()\n",
    "centroids = find_centroids(predict_numpy)\n",
    "out_pred_cen = put_centroid_centers(stack(predict_numpy), centroids)\n",
    "plt.imshow(out_pred_cen[0])"
   ],
   "metadata": {
    "collapsed": false,
    "ExecuteTime": {
     "end_time": "2023-10-26T07:48:39.308073Z",
     "start_time": "2023-10-26T07:48:33.730331Z"
    }
   },
   "id": "eed6a169355fb566"
  },
  {
   "cell_type": "markdown",
   "source": [
    "<h2> Local kernel maxima"
   ],
   "metadata": {
    "collapsed": false
   },
   "id": "989bcc81-3604-4ee2-b74e-57e52169514a"
  },
  {
   "cell_type": "markdown",
   "source": [
    "# create output with local maxima\n",
    "pred = predict[:,:,:,0].copy()\n",
    "maxima = find_maxima(pred)\n",
    "out_pred_max = put_maxima_centers(pred, centroids)"
   ],
   "metadata": {
    "collapsed": false
   },
   "id": "59b5091ba27f2005"
  },
  {
   "cell_type": "markdown",
   "source": [
    "<h2> Video"
   ],
   "metadata": {
    "collapsed": false
   },
   "id": "8dbc97d7-7ba7-47c6-9b06-b49bb2f60389"
  },
  {
   "cell_type": "code",
   "execution_count": 18,
   "outputs": [],
   "source": [
    "def RAD_COLOR_FRAME(i, input, prediction_array, draw_ellipses=0, draw_predictions=True, ellipses_array=0):\n",
    "    # convert to uint8\n",
    "    in1 = np.uint8(input[i, :, :, 0:3] * 255)\n",
    "    in2 = np.uint8(input[i + 1, :, :, 0:3] * 255)\n",
    "    in3 = np.uint8(input[i + 2, :, :, 0:3] * 255)\n",
    "    in4 = np.uint8(input[i + 3, :, :, 0:3] * 255)\n",
    "    in5 = np.uint8(input[i + 4, :, :, 0:3] * 255)\n",
    "\n",
    "    # in1=input[i,:,:,0:3]\n",
    "    # in2=input[i+1,:,:,0:3]\n",
    "    # in3=input[i+2,:,:,0:3]\n",
    "    # in4=input[i+3,:,:,0:3]\n",
    "    # in5=input[i+4,:,:,0:3]\n",
    "\n",
    "    #convert to rgb\n",
    "    in1 = cv2.cvtColor(in1, cv2.COLOR_BGR2RGB)\n",
    "    in2 = cv2.cvtColor(in2, cv2.COLOR_BGR2RGB)\n",
    "    in3 = cv2.cvtColor(in3, cv2.COLOR_BGR2RGB)\n",
    "    in4 = cv2.cvtColor(in4, cv2.COLOR_BGR2RGB)\n",
    "    in5 = cv2.cvtColor(in5, cv2.COLOR_BGR2RGB)\n",
    "\n",
    "    # create masks\n",
    "    bool2 = (in2 < 125) | (in2 > 129)\n",
    "    mask2 = np.uint8(np.zeros((256, 256)))\n",
    "    mask2[bool2[:, :, 0]] = 200\n",
    "    bool3 = (in3 < 125) | (in3 > 129)\n",
    "    mask3 = np.uint8(np.zeros((256, 256)))\n",
    "    mask3[bool3[:, :, 0]] = 200\n",
    "    bool4 = (in4 < 125) | (in4 > 129)\n",
    "    mask4 = np.uint8(np.zeros((256, 256)))\n",
    "    mask4[bool4[:, :, 0]] = 200\n",
    "    bool5 = (in5 < 125) | (in5 > 129)\n",
    "    mask5 = np.uint8(np.zeros((256, 256)))\n",
    "    mask5[bool5[:, :, 0]] = 200\n",
    "\n",
    "    mask2 = Image.fromarray(mask2)\n",
    "    mask3 = Image.fromarray(mask3)\n",
    "    mask4 = Image.fromarray(mask4)\n",
    "    mask5 = Image.fromarray(mask5)\n",
    "\n",
    "    in1 = Image.fromarray(in1)\n",
    "    in2 = Image.fromarray(in2)\n",
    "    in3 = Image.fromarray(in3)\n",
    "    in4 = Image.fromarray(in4)\n",
    "    in5 = Image.fromarray(in5)\n",
    "\n",
    "    in1.paste(in2, (0, 0), mask2)\n",
    "    # in1.paste(in3, (0,0), mask3)\n",
    "    # in1.paste(in4, (0,0), mask4)\n",
    "    # in1.paste(in5, (0,0), mask5)\n",
    "\n",
    "    frame = np.asarray(in1)\n",
    "\n",
    "    if draw_predictions == True:\n",
    "        # draw output prediction\n",
    "        print(f\"shape={prediction_array.shape}, dtype={prediction_array.dtype}\")\n",
    "        predcopy = cv2.cvtColor(prediction_array.transpose(1, 2, 0), cv2.COLOR_BGR2RGB)\n",
    "        frame[predcopy > 0] = frame[predcopy > 0] + 30\n",
    "    #     if draw_ellipses == True:\n",
    "    #         # draw ellipses\n",
    "    #         for j in range(len(ellipses_array[i])):\n",
    "    #             frame = cv2.ellipse(frame, (ellipses_array[i][j][0], ellipses_array[i][j][1]), (ellipses_array[i][j][2], ellipses_array[i][j][3]), ellipses_array[i][j][4], 0,360, (255,255,0), 1)\n",
    "\n",
    "    frame = Image.fromarray(frame)\n",
    "    frame = frame.resize((1024, 1024))\n",
    "    #     time = datetime.strptime(re.search('--(.*)_', os.path.basename(files[files_index[i]])).group(1).replace('-', ' '), '%Y%m%d %H%M%S')\n",
    "    #     I1 = ImageDraw.Draw(frame)\n",
    "    #     I1.text((20,20), time.strftime('%Y%m%d %H%M%S'), font=ImageFont.truetype(\"verdanab.ttf\", 30))\n",
    "    #     I1.text((20,60), str(i), fill=(255), font=ImageFont.truetype(\"verdanab.ttf\", 30))\n",
    "    frame = np.asarray(frame)\n",
    "\n",
    "    return frame"
   ],
   "metadata": {
    "collapsed": false,
    "ExecuteTime": {
     "end_time": "2023-10-26T07:49:36.580713Z",
     "start_time": "2023-10-26T07:49:36.536381Z"
    }
   },
   "id": "783079f9-be5e-4e7e-877a-8740d1f40f25"
  },
  {
   "cell_type": "code",
   "execution_count": 19,
   "id": "577c5fe9-d51d-47b4-b8e9-9b1130fbaf99",
   "metadata": {
    "jupyter": {
     "source_hidden": true
    },
    "tags": [],
    "ExecuteTime": {
     "end_time": "2023-10-26T07:49:40.158767Z",
     "start_time": "2023-10-26T07:49:37.151064Z"
    }
   },
   "outputs": [],
   "source": [
    "# make a video with ellipses\n",
    "framesize = (1024, 1024)\n",
    "out = cv2.VideoWriter('plots_video_ellipses.avi', cv2.VideoWriter_fourcc('M', 'J', 'P', 'G'), 5, framesize, True)\n",
    "for img in out_pred_ell:\n",
    "    img = Image.fromarray(img.astype(np.uint8))\n",
    "    img = img.resize((1024, 1024))\n",
    "    out.write(np.array(img))\n",
    "\n",
    "out.release()"
   ]
  },
  {
   "cell_type": "code",
   "execution_count": null,
   "outputs": [
    {
     "name": "stdout",
     "output_type": "stream",
     "text": [
      "shape=(188, 1, 256, 256), dtype=float32\n"
     ]
    }
   ],
   "source": [
    "# def RAD_COLOR_FRAME(i, input, prediction_array, draw_ellipses=0, draw_predictions=True, ellipses_array=0):\n",
    "i = 0\n",
    "prediction_array = predict.cpu().numpy()\n",
    "draw_ellipses = 0\n",
    "draw_predictions = True\n",
    "ellipses_array = 0\n",
    "\n",
    "# convert to uint8\n",
    "in1 = np.uint8(input[i, :, :, 0:3] * 255)\n",
    "in2 = np.uint8(input[i + 1, :, :, 0:3] * 255)\n",
    "in3 = np.uint8(input[i + 2, :, :, 0:3] * 255)\n",
    "in4 = np.uint8(input[i + 3, :, :, 0:3] * 255)\n",
    "in5 = np.uint8(input[i + 4, :, :, 0:3] * 255)\n",
    "\n",
    "# in1=input[i,:,:,0:3]\n",
    "# in2=input[i+1,:,:,0:3]\n",
    "# in3=input[i+2,:,:,0:3]\n",
    "# in4=input[i+3,:,:,0:3]\n",
    "# in5=input[i+4,:,:,0:3]\n",
    "\n",
    "#convert to rgb\n",
    "in1 = cv2.cvtColor(in1, cv2.COLOR_BGR2RGB)\n",
    "in2 = cv2.cvtColor(in2, cv2.COLOR_BGR2RGB)\n",
    "in3 = cv2.cvtColor(in3, cv2.COLOR_BGR2RGB)\n",
    "in4 = cv2.cvtColor(in4, cv2.COLOR_BGR2RGB)\n",
    "in5 = cv2.cvtColor(in5, cv2.COLOR_BGR2RGB)\n",
    "\n",
    "# create masks\n",
    "bool2 = (in2 < 125) | (in2 > 129)\n",
    "mask2 = np.uint8(np.zeros((256, 256)))\n",
    "mask2[bool2[:, :, 0]] = 200\n",
    "bool3 = (in3 < 125) | (in3 > 129)\n",
    "mask3 = np.uint8(np.zeros((256, 256)))\n",
    "mask3[bool3[:, :, 0]] = 200\n",
    "bool4 = (in4 < 125) | (in4 > 129)\n",
    "mask4 = np.uint8(np.zeros((256, 256)))\n",
    "mask4[bool4[:, :, 0]] = 200\n",
    "bool5 = (in5 < 125) | (in5 > 129)\n",
    "mask5 = np.uint8(np.zeros((256, 256)))\n",
    "mask5[bool5[:, :, 0]] = 200\n",
    "\n",
    "mask2 = Image.fromarray(mask2)\n",
    "mask3 = Image.fromarray(mask3)\n",
    "mask4 = Image.fromarray(mask4)\n",
    "mask5 = Image.fromarray(mask5)\n",
    "\n",
    "in1 = Image.fromarray(in1)\n",
    "in2 = Image.fromarray(in2)\n",
    "in3 = Image.fromarray(in3)\n",
    "in4 = Image.fromarray(in4)\n",
    "in5 = Image.fromarray(in5)\n",
    "\n",
    "in1.paste(in2, (0, 0), mask2)\n",
    "# in1.paste(in3, (0,0), mask3)\n",
    "# in1.paste(in4, (0,0), mask4)\n",
    "# in1.paste(in5, (0,0), mask5)\n",
    "\n",
    "\n",
    "frame = np.asarray(in1)\n",
    "\n",
    "if draw_predictions == True:\n",
    "    # draw output prediction\n",
    "    print(f\"shape={prediction_array.shape}, dtype={prediction_array.dtype}\")\n",
    "    predcopy = cv2.cvtColor(prediction_array.transpose(1, 2, 0), cv2.COLOR_BGR2RGB)\n",
    "    frame[predcopy > 0] = frame[predcopy > 0] + 30\n",
    "#     if draw_ellipses == True:\n",
    "#         # draw ellipses\n",
    "#         for j in range(len(ellipses_array[i])):\n",
    "#             frame = cv2.ellipse(frame, (ellipses_array[i][j][0], ellipses_array[i][j][1]), (ellipses_array[i][j][2], ellipses_array[i][j][3]), ellipses_array[i][j][4], 0,360, (255,255,0), 1)\n",
    "\n",
    "\n",
    "frame = Image.fromarray(frame)\n",
    "frame = frame.resize((1024, 1024))\n",
    "#     time = datetime.strptime(re.search('--(.*)_', os.path.basename(files[files_index[i]])).group(1).replace('-', ' '), '%Y%m%d %H%M%S')\n",
    "#     I1 = ImageDraw.Draw(frame)\n",
    "#     I1.text((20,20), time.strftime('%Y%m%d %H%M%S'), font=ImageFont.truetype(\"verdanab.ttf\", 30))\n",
    "#     I1.text((20,60), str(i), fill=(255), font=ImageFont.truetype(\"verdanab.ttf\", 30))\n",
    "frame = np.asarray(frame)"
   ],
   "metadata": {
    "collapsed": false,
    "is_executing": true,
    "ExecuteTime": {
     "start_time": "2023-10-26T08:01:12.187763Z"
    }
   },
   "id": "d145be88426f543f"
  },
  {
   "cell_type": "code",
   "execution_count": 21,
   "id": "fdd7cebc-d871-460f-9d05-35be3fa91597",
   "metadata": {
    "ExecuteTime": {
     "end_time": "2023-10-26T07:56:21.005208Z",
     "start_time": "2023-10-26T07:56:20.870637Z"
    }
   },
   "outputs": [
    {
     "name": "stdout",
     "output_type": "stream",
     "text": [
      "shape=(1, 256, 256), dtype=float32\n"
     ]
    },
    {
     "ename": "ValueError",
     "evalue": "assignment destination is read-only",
     "output_type": "error",
     "traceback": [
      "\u001B[0;31m---------------------------------------------------------------------------\u001B[0m",
      "\u001B[0;31mValueError\u001B[0m                                Traceback (most recent call last)",
      "Cell \u001B[0;32mIn[21], line 8\u001B[0m\n\u001B[1;32m      5\u001B[0m     \u001B[38;5;28;01mif\u001B[39;00m i \u001B[38;5;241m+\u001B[39m \u001B[38;5;241m5\u001B[39m \u001B[38;5;241m>\u001B[39m\u001B[38;5;241m=\u001B[39m \u001B[38;5;28minput\u001B[39m\u001B[38;5;241m.\u001B[39mshape[\u001B[38;5;241m0\u001B[39m]:\n\u001B[1;32m      6\u001B[0m         \u001B[38;5;28;01mbreak\u001B[39;00m\n\u001B[0;32m----> 8\u001B[0m     out\u001B[38;5;241m.\u001B[39mwrite(\u001B[43mRAD_COLOR_FRAME\u001B[49m\u001B[43m(\u001B[49m\u001B[43mi\u001B[49m\u001B[43m,\u001B[49m\u001B[43m \u001B[49m\u001B[38;5;28;43minput\u001B[39;49m\u001B[43m,\u001B[49m\u001B[43m \u001B[49m\u001B[43mimg\u001B[49m\u001B[43m)\u001B[49m)\n\u001B[1;32m     10\u001B[0m out\u001B[38;5;241m.\u001B[39mrelease()\n",
      "Cell \u001B[0;32mIn[18], line 62\u001B[0m, in \u001B[0;36mRAD_COLOR_FRAME\u001B[0;34m(i, input, prediction_array, draw_ellipses, draw_predictions, ellipses_array)\u001B[0m\n\u001B[1;32m     60\u001B[0m         \u001B[38;5;28mprint\u001B[39m(\u001B[38;5;124mf\u001B[39m\u001B[38;5;124m\"\u001B[39m\u001B[38;5;124mshape=\u001B[39m\u001B[38;5;132;01m{\u001B[39;00mprediction_array\u001B[38;5;241m.\u001B[39mshape\u001B[38;5;132;01m}\u001B[39;00m\u001B[38;5;124m, dtype=\u001B[39m\u001B[38;5;132;01m{\u001B[39;00mprediction_array\u001B[38;5;241m.\u001B[39mdtype\u001B[38;5;132;01m}\u001B[39;00m\u001B[38;5;124m\"\u001B[39m)\n\u001B[1;32m     61\u001B[0m         predcopy \u001B[38;5;241m=\u001B[39m cv2\u001B[38;5;241m.\u001B[39mcvtColor(prediction_array\u001B[38;5;241m.\u001B[39mtranspose(\u001B[38;5;241m1\u001B[39m,\u001B[38;5;241m2\u001B[39m,\u001B[38;5;241m0\u001B[39m), cv2\u001B[38;5;241m.\u001B[39mCOLOR_BGR2RGB)\n\u001B[0;32m---> 62\u001B[0m         \u001B[43mframe\u001B[49m\u001B[43m[\u001B[49m\u001B[43mpredcopy\u001B[49m\u001B[43m \u001B[49m\u001B[38;5;241;43m>\u001B[39;49m\u001B[43m \u001B[49m\u001B[38;5;241;43m0\u001B[39;49m\u001B[43m]\u001B[49m \u001B[38;5;241m=\u001B[39m frame[predcopy \u001B[38;5;241m>\u001B[39m \u001B[38;5;241m0\u001B[39m] \u001B[38;5;241m+\u001B[39m \u001B[38;5;241m30\u001B[39m\n\u001B[1;32m     63\u001B[0m \u001B[38;5;66;03m#     if draw_ellipses == True:\u001B[39;00m\n\u001B[1;32m     64\u001B[0m \u001B[38;5;66;03m#         # draw ellipses\u001B[39;00m\n\u001B[1;32m     65\u001B[0m \u001B[38;5;66;03m#         for j in range(len(ellipses_array[i])):\u001B[39;00m\n\u001B[1;32m     66\u001B[0m \u001B[38;5;66;03m#             frame = cv2.ellipse(frame, (ellipses_array[i][j][0], ellipses_array[i][j][1]), (ellipses_array[i][j][2], ellipses_array[i][j][3]), ellipses_array[i][j][4], 0,360, (255,255,0), 1)\u001B[39;00m\n\u001B[1;32m     70\u001B[0m     frame \u001B[38;5;241m=\u001B[39m Image\u001B[38;5;241m.\u001B[39mfromarray(frame)\n",
      "\u001B[0;31mValueError\u001B[0m: assignment destination is read-only"
     ]
    }
   ],
   "source": [
    "# make a video\n",
    "framesize = (1024, 1024)\n",
    "out = cv2.VideoWriter('model_ppi_video.avi', cv2.VideoWriter_fourcc('M', 'J', 'P', 'G'), 5, framesize, True)\n",
    "for i, img in enumerate(predict.cpu().numpy()):\n",
    "    if i + 5 >= input.shape[0]:\n",
    "        break\n",
    "\n",
    "    out.write(RAD_COLOR_FRAME(i, input, img))\n",
    "\n",
    "out.release()"
   ]
  },
  {
   "cell_type": "code",
   "execution_count": 90,
   "outputs": [
    {
     "data": {
      "text/plain": "(188, 256, 256)"
     },
     "execution_count": 90,
     "metadata": {},
     "output_type": "execute_result"
    }
   ],
   "source": [
    "pred.shape"
   ],
   "metadata": {
    "collapsed": false,
    "ExecuteTime": {
     "end_time": "2023-10-25T15:09:14.757077Z",
     "start_time": "2023-10-25T15:09:14.756065Z"
    }
   },
   "id": "8b88b577938771ff"
  },
  {
   "cell_type": "code",
   "execution_count": 86,
   "id": "f948c1d4-b614-444f-8fa9-b22af3367819",
   "metadata": {
    "ExecuteTime": {
     "end_time": "2023-10-25T15:08:43.935089Z",
     "start_time": "2023-10-25T15:08:43.790534Z"
    }
   },
   "outputs": [
    {
     "name": "stdout",
     "output_type": "stream",
     "text": [
      "shape=(256, 256)\n"
     ]
    },
    {
     "ename": "ValueError",
     "evalue": "assignment destination is read-only",
     "output_type": "error",
     "traceback": [
      "\u001B[0;31m---------------------------------------------------------------------------\u001B[0m",
      "\u001B[0;31mValueError\u001B[0m                                Traceback (most recent call last)",
      "Cell \u001B[0;32mIn[86], line 10\u001B[0m\n\u001B[1;32m      7\u001B[0m     \u001B[38;5;28;01mif\u001B[39;00m i \u001B[38;5;241m+\u001B[39m \u001B[38;5;241m5\u001B[39m \u001B[38;5;241m>\u001B[39m\u001B[38;5;241m=\u001B[39m \u001B[38;5;28minput\u001B[39m\u001B[38;5;241m.\u001B[39mshape[\u001B[38;5;241m0\u001B[39m]:\n\u001B[1;32m      8\u001B[0m         \u001B[38;5;28;01mbreak\u001B[39;00m\n\u001B[0;32m---> 10\u001B[0m     out\u001B[38;5;241m.\u001B[39mwrite(\u001B[43mRAD_COLOR_FRAME\u001B[49m\u001B[43m(\u001B[49m\u001B[43mi\u001B[49m\u001B[43m,\u001B[49m\u001B[43m \u001B[49m\u001B[38;5;28;43minput\u001B[39;49m\u001B[43m,\u001B[49m\u001B[43m \u001B[49m\u001B[43mimg\u001B[49m\u001B[43m)\u001B[49m)\n\u001B[1;32m     12\u001B[0m out\u001B[38;5;241m.\u001B[39mrelease()\n",
      "Cell \u001B[0;32mIn[85], line 62\u001B[0m, in \u001B[0;36mRAD_COLOR_FRAME\u001B[0;34m(i, input, prediction_array, draw_ellipses, draw_predictions, ellipses_array)\u001B[0m\n\u001B[1;32m     60\u001B[0m         \u001B[38;5;28mprint\u001B[39m(\u001B[38;5;124mf\u001B[39m\u001B[38;5;124m\"\u001B[39m\u001B[38;5;124mshape=\u001B[39m\u001B[38;5;132;01m{\u001B[39;00mprediction_array\u001B[38;5;241m.\u001B[39mshape\u001B[38;5;132;01m}\u001B[39;00m\u001B[38;5;124m\"\u001B[39m)\n\u001B[1;32m     61\u001B[0m         predcopy \u001B[38;5;241m=\u001B[39m cv2\u001B[38;5;241m.\u001B[39mcvtColor(prediction_array, cv2\u001B[38;5;241m.\u001B[39mCOLOR_BGR2RGB)\n\u001B[0;32m---> 62\u001B[0m         \u001B[43mframe\u001B[49m\u001B[43m[\u001B[49m\u001B[43mpredcopy\u001B[49m\u001B[43m \u001B[49m\u001B[38;5;241;43m>\u001B[39;49m\u001B[43m \u001B[49m\u001B[38;5;241;43m0\u001B[39;49m\u001B[43m]\u001B[49m \u001B[38;5;241m=\u001B[39m frame[predcopy \u001B[38;5;241m>\u001B[39m \u001B[38;5;241m0\u001B[39m] \u001B[38;5;241m+\u001B[39m \u001B[38;5;241m30\u001B[39m\n\u001B[1;32m     63\u001B[0m \u001B[38;5;66;03m#     if draw_ellipses == True:\u001B[39;00m\n\u001B[1;32m     64\u001B[0m \u001B[38;5;66;03m#         # draw ellipses\u001B[39;00m\n\u001B[1;32m     65\u001B[0m \u001B[38;5;66;03m#         for j in range(len(ellipses_array[i])):\u001B[39;00m\n\u001B[1;32m     66\u001B[0m \u001B[38;5;66;03m#             frame = cv2.ellipse(frame, (ellipses_array[i][j][0], ellipses_array[i][j][1]), (ellipses_array[i][j][2], ellipses_array[i][j][3]), ellipses_array[i][j][4], 0,360, (255,255,0), 1)\u001B[39;00m\n\u001B[1;32m     70\u001B[0m     frame \u001B[38;5;241m=\u001B[39m Image\u001B[38;5;241m.\u001B[39mfromarray(frame)\n",
      "\u001B[0;31mValueError\u001B[0m: assignment destination is read-only"
     ]
    }
   ],
   "source": [
    "# make a video with stacked model\n",
    "pred_stack = stack(pred)\n",
    "\n",
    "framesize = (1024, 1024)\n",
    "out = cv2.VideoWriter('model_ppi_video_stack.avi', cv2.VideoWriter_fourcc('M', 'J', 'P', 'G'), 5, framesize, True)\n",
    "for i, img in enumerate(pred_stack):\n",
    "    if i + 5 >= input.shape[0]:\n",
    "        break\n",
    "\n",
    "    out.write(RAD_COLOR_FRAME(i, input, img))\n",
    "\n",
    "out.release()"
   ]
  },
  {
   "cell_type": "markdown",
   "id": "50bcd6b5-f5de-4f36-840a-bf3d1f265e28",
   "metadata": {},
   "source": [
    "<h1> Tests"
   ]
  },
  {
   "cell_type": "code",
   "execution_count": null,
   "id": "52b4fb38-1213-47c9-8ec1-6cc964f03a4a",
   "metadata": {
    "jupyter": {
     "source_hidden": true
    },
    "tags": [],
    "ExecuteTime": {
     "start_time": "2023-10-25T14:30:24.834554Z"
    }
   },
   "outputs": [],
   "source": [
    "test = predict[:, :, :, 0].copy()\n",
    "ppi = input[:, :, :, 0:3].copy()"
   ]
  },
  {
   "cell_type": "code",
   "execution_count": null,
   "id": "dcc45615-4c1b-4099-a178-69c5cb36da01",
   "metadata": {
    "jupyter": {
     "source_hidden": true
    },
    "tags": [],
    "ExecuteTime": {
     "start_time": "2023-10-25T14:30:24.834580Z"
    }
   },
   "outputs": [],
   "source": [
    "test[test < 0.3] = 0"
   ]
  },
  {
   "cell_type": "code",
   "execution_count": null,
   "id": "bb4d0f1e-b558-471c-b344-e3053ee25125",
   "metadata": {
    "collapsed": true,
    "jupyter": {
     "outputs_hidden": true,
     "source_hidden": true
    },
    "tags": [],
    "ExecuteTime": {
     "start_time": "2023-10-25T14:30:24.834597Z"
    }
   },
   "outputs": [],
   "source": [
    "plt.figure(figsize=(8, 8))\n",
    "plt.imshow(predict[0])"
   ]
  },
  {
   "cell_type": "code",
   "execution_count": null,
   "id": "1be83d7f-af01-4493-a870-67c9427993e2",
   "metadata": {
    "collapsed": true,
    "jupyter": {
     "outputs_hidden": true,
     "source_hidden": true
    },
    "tags": [],
    "ExecuteTime": {
     "start_time": "2023-10-25T14:30:24.834612Z"
    }
   },
   "outputs": [],
   "source": [
    "plt.figure(figsize=(8, 8))\n",
    "plt.imshow(predict[0])"
   ]
  },
  {
   "cell_type": "code",
   "execution_count": null,
   "id": "dd02784d-a9f9-4e88-8227-c61b67e2ab18",
   "metadata": {
    "jupyter": {
     "source_hidden": true
    },
    "tags": [],
    "ExecuteTime": {
     "start_time": "2023-10-25T14:30:24.834634Z"
    }
   },
   "outputs": [],
   "source": [
    "tt = cv2.cvtColor(test[0], cv2.COLOR_BGR2RGB)\n",
    "ppi[0][tt > 0.2] = ppi[0][tt > 0.2] + 0.1"
   ]
  },
  {
   "cell_type": "code",
   "execution_count": null,
   "id": "3ab4615e-056f-4c12-ad2a-d37a6e7eb785",
   "metadata": {
    "collapsed": true,
    "jupyter": {
     "outputs_hidden": true,
     "source_hidden": true
    },
    "tags": [],
    "ExecuteTime": {
     "start_time": "2023-10-25T14:30:24.834654Z"
    }
   },
   "outputs": [],
   "source": [
    "plt.figure(figsize=(8, 8))\n",
    "plt.imshow(ppi[0])"
   ]
  },
  {
   "cell_type": "code",
   "execution_count": null,
   "id": "2fb053af-d901-4401-8e6f-ef83ac1b7ca3",
   "metadata": {
    "collapsed": true,
    "jupyter": {
     "outputs_hidden": true,
     "source_hidden": true
    },
    "tags": [],
    "ExecuteTime": {
     "start_time": "2023-10-25T14:30:24.834678Z"
    }
   },
   "outputs": [],
   "source": [
    "plt.figure(figsize=(8, 8))\n",
    "plt.imshow(out_pred_cen[43])"
   ]
  },
  {
   "cell_type": "code",
   "execution_count": null,
   "id": "c94fc9bf-6baa-4b76-a4e2-ebe02c01cf06",
   "metadata": {
    "collapsed": true,
    "jupyter": {
     "outputs_hidden": true,
     "source_hidden": true
    },
    "tags": [],
    "ExecuteTime": {
     "start_time": "2023-10-25T14:30:24.834694Z"
    }
   },
   "outputs": [],
   "source": [
    "plt.figure(figsize=(8, 8))\n",
    "plt.imshow(out_pred_ell[43])"
   ]
  }
 ],
 "metadata": {
  "kernelspec": {
   "display_name": "Python 3 (ipykernel)",
   "language": "python",
   "name": "python3"
  },
  "language_info": {
   "codemirror_mode": {
    "name": "ipython",
    "version": 3
   },
   "file_extension": ".py",
   "mimetype": "text/x-python",
   "name": "python",
   "nbconvert_exporter": "python",
   "pygments_lexer": "ipython3",
   "version": "3.9.12"
  }
 },
 "nbformat": 4,
 "nbformat_minor": 5
}
